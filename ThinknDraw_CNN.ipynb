{
  "nbformat": 4,
  "nbformat_minor": 0,
  "metadata": {
    "colab": {
      "name": "ThinknDraw.ipynb",
      "version": "0.3.2",
      "provenance": [],
      "collapsed_sections": [],
      "machine_shape": "hm"
    },
    "kernelspec": {
      "name": "python3",
      "display_name": "Python 3"
    }
  },
  "cells": [
    {
      "cell_type": "code",
      "metadata": {
        "id": "u21uelBznIBb",
        "colab_type": "code",
        "colab": {}
      },
      "source": [
        "import os\n",
        "import glob\n",
        "import numpy as np\n",
        "from tensorflow.keras import layers\n",
        "from tensorflow import keras \n",
        "import tensorflow as tf"
      ],
      "execution_count": 0,
      "outputs": []
    },
    {
      "cell_type": "code",
      "metadata": {
        "id": "zBnFhd36s61C",
        "colab_type": "code",
        "colab": {
          "base_uri": "https://localhost:8080/",
          "height": 34
        },
        "outputId": "46e5da5e-830c-4f6b-885e-847ae1377575"
      },
      "source": [
        "import numpy as np\n",
        "import pandas as pd\n",
        "\n",
        "%matplotlib inline\n",
        "import matplotlib.pyplot as plt\n",
        "\n",
        "from sklearn.ensemble import RandomForestClassifier\n",
        "from sklearn.neighbors import KNeighborsClassifier\n",
        "from sklearn.svm import SVC, LinearSVC\n",
        "from sklearn.linear_model import SGDClassifier\n",
        "from sklearn.neural_network import MLPClassifier\n",
        "\n",
        "from sklearn.metrics import accuracy_score, confusion_matrix, roc_curve, roc_auc_score\n",
        "from sklearn.model_selection import train_test_split, GridSearchCV\n",
        "import keras\n",
        "from keras.models import Sequential\n",
        "from keras.layers import Dense, Dropout, Flatten\n",
        "from keras.layers.convolutional import Conv2D, MaxPooling2D\n",
        "from keras.utils import np_utils\n",
        "from keras import backend as K"
      ],
      "execution_count": 4,
      "outputs": [
        {
          "output_type": "stream",
          "text": [
            "Using TensorFlow backend.\n"
          ],
          "name": "stderr"
        }
      ]
    },
    {
      "cell_type": "code",
      "metadata": {
        "id": "aXUWS7tvF4VG",
        "colab_type": "code",
        "colab": {}
      },
      "source": [
        "!pip install -U -q PyDrive\n",
        "from pydrive.auth import GoogleAuth\n",
        "from pydrive.drive import GoogleDrive\n",
        "from google.colab import auth\n",
        "from oauth2client.client import GoogleCredentials\n",
        "\n",
        "# 1. Authenticate and create the PyDrive client.\n",
        "auth.authenticate_user()\n",
        "gauth = GoogleAuth()\n",
        "gauth.credentials = GoogleCredentials.get_application_default()\n",
        "drive = GoogleDrive(gauth)\n"
      ],
      "execution_count": 0,
      "outputs": []
    },
    {
      "cell_type": "code",
      "metadata": {
        "id": "LEGADltDjBrJ",
        "colab_type": "code",
        "colab": {}
      },
      "source": [
        "classes = [\n",
        "    \n",
        "    'square',\n",
        "    'triangle',\n",
        "    'star',\n",
        "    'car',\n",
        "    'apple',\n",
        "    'dog',\n",
        "    'cat',\n",
        "    'dragon',\n",
        "    'frog',\n",
        "    'banana',\n",
        "    'carrot',\n",
        "    'dumbbell',\n",
        "    'ice_cream',\n",
        "    'baseball',\n",
        "    'bicycle',\n",
        "    'cannon',\n",
        "    'airplane',\n",
        "    'flip_flops'\n",
        "    \n",
        "]"
      ],
      "execution_count": 0,
      "outputs": []
    },
    {
      "cell_type": "code",
      "metadata": {
        "id": "mzB7RIz8jHxh",
        "colab_type": "code",
        "colab": {}
      },
      "source": [
        "!mkdir data"
      ],
      "execution_count": 0,
      "outputs": []
    },
    {
      "cell_type": "code",
      "metadata": {
        "id": "hFxBI5LpjH0a",
        "colab_type": "code",
        "colab": {}
      },
      "source": [
        "import urllib.request\n",
        "def download():\n",
        "  \n",
        "  base = 'https://storage.googleapis.com/quickdraw_dataset/full/numpy_bitmap/'\n",
        "  for c in classes:\n",
        "    cls_url = c.replace('_', '%20')\n",
        "    path = base+cls_url+'.npy'\n",
        "    print(path)\n",
        "    urllib.request.urlretrieve(path, 'data/'+c+'.npy')"
      ],
      "execution_count": 0,
      "outputs": []
    },
    {
      "cell_type": "code",
      "metadata": {
        "id": "nHTogBvojH7E",
        "colab_type": "code",
        "colab": {
          "base_uri": "https://localhost:8080/",
          "height": 323
        },
        "outputId": "ecbeec6d-d127-47e5-dab1-c883e99c9749"
      },
      "source": [
        "download() "
      ],
      "execution_count": 8,
      "outputs": [
        {
          "output_type": "stream",
          "text": [
            "https://storage.googleapis.com/quickdraw_dataset/full/numpy_bitmap/square.npy\n",
            "https://storage.googleapis.com/quickdraw_dataset/full/numpy_bitmap/triangle.npy\n",
            "https://storage.googleapis.com/quickdraw_dataset/full/numpy_bitmap/star.npy\n",
            "https://storage.googleapis.com/quickdraw_dataset/full/numpy_bitmap/car.npy\n",
            "https://storage.googleapis.com/quickdraw_dataset/full/numpy_bitmap/apple.npy\n",
            "https://storage.googleapis.com/quickdraw_dataset/full/numpy_bitmap/dog.npy\n",
            "https://storage.googleapis.com/quickdraw_dataset/full/numpy_bitmap/cat.npy\n",
            "https://storage.googleapis.com/quickdraw_dataset/full/numpy_bitmap/dragon.npy\n",
            "https://storage.googleapis.com/quickdraw_dataset/full/numpy_bitmap/frog.npy\n",
            "https://storage.googleapis.com/quickdraw_dataset/full/numpy_bitmap/banana.npy\n",
            "https://storage.googleapis.com/quickdraw_dataset/full/numpy_bitmap/carrot.npy\n",
            "https://storage.googleapis.com/quickdraw_dataset/full/numpy_bitmap/dumbbell.npy\n",
            "https://storage.googleapis.com/quickdraw_dataset/full/numpy_bitmap/ice%20cream.npy\n",
            "https://storage.googleapis.com/quickdraw_dataset/full/numpy_bitmap/baseball.npy\n",
            "https://storage.googleapis.com/quickdraw_dataset/full/numpy_bitmap/bicycle.npy\n",
            "https://storage.googleapis.com/quickdraw_dataset/full/numpy_bitmap/cannon.npy\n",
            "https://storage.googleapis.com/quickdraw_dataset/full/numpy_bitmap/airplane.npy\n",
            "https://storage.googleapis.com/quickdraw_dataset/full/numpy_bitmap/flip%20flops.npy\n"
          ],
          "name": "stdout"
        }
      ]
    },
    {
      "cell_type": "code",
      "metadata": {
        "id": "et4pYwThjH5t",
        "colab_type": "code",
        "colab": {}
      },
      "source": [
        "def load_data(root, vfold_ratio=0.2, max_items_per_class= 4000 ):\n",
        "    all_files = glob.glob(os.path.join(root, '*.npy'))\n",
        "\n",
        "    #initialize variables \n",
        "    x = np.empty([0, 784])\n",
        "    y = np.empty([0])\n",
        "    class_names = []\n",
        "\n",
        "    #load each data file \n",
        "    for idx, file in enumerate(all_files):\n",
        "        data = np.load(file)\n",
        "        data = data[0: max_items_per_class, :]\n",
        "        labels = np.full(data.shape[0], idx)\n",
        "\n",
        "        x = np.concatenate((x, data), axis=0)\n",
        "        y = np.append(y, labels)\n",
        "\n",
        "        class_name, ext = os.path.splitext(os.path.basename(file))\n",
        "        class_names.append(class_name)\n",
        "\n",
        "    data = None\n",
        "    labels = None\n",
        "    \n",
        "    #randomize the dataset \n",
        "    permutation = np.random.permutation(y.shape[0])\n",
        "    x = x[permutation, :]\n",
        "    y = y[permutation]\n",
        "\n",
        "    #separate into training and testing \n",
        "    vfold_size = int(x.shape[0]/100*(vfold_ratio*100))\n",
        "\n",
        "    x_test = x[0:vfold_size, :]\n",
        "    y_test = y[0:vfold_size]\n",
        "\n",
        "    x_train = x[vfold_size:x.shape[0], :]\n",
        "    y_train = y[vfold_size:y.shape[0]]\n",
        "    return x_train, y_train, x_test, y_test, class_names"
      ],
      "execution_count": 0,
      "outputs": []
    },
    {
      "cell_type": "code",
      "metadata": {
        "id": "lfQQVzZ5m1fm",
        "colab_type": "code",
        "colab": {
          "base_uri": "https://localhost:8080/",
          "height": 34
        },
        "outputId": "87588399-4a61-46e4-bde4-9fa822a2af82"
      },
      "source": [
        "x_train, y_train, x_test, y_test, class_names = load_data('data',max_items_per_class=20000)\n",
        "num_classes = len(class_names)\n",
        "image_size = 28\n",
        "print(len(x_train))"
      ],
      "execution_count": 47,
      "outputs": [
        {
          "output_type": "stream",
          "text": [
            "288000\n"
          ],
          "name": "stdout"
        }
      ]
    },
    {
      "cell_type": "code",
      "metadata": {
        "id": "o6S4op2EnCub",
        "colab_type": "code",
        "colab": {
          "base_uri": "https://localhost:8080/",
          "height": 286
        },
        "outputId": "0cf46bd6-e7d0-45d5-8fb6-954b419109a0"
      },
      "source": [
        "import matplotlib.pyplot as plt\n",
        "from random import randint\n",
        "%matplotlib inline  \n",
        "idx = randint(0, len(x_train))\n",
        "plt.imshow(x_train[idx].reshape(28,28)) \n",
        "print(class_names[int(y_train[idx].item())])"
      ],
      "execution_count": 48,
      "outputs": [
        {
          "output_type": "stream",
          "text": [
            "banana\n"
          ],
          "name": "stdout"
        },
        {
          "output_type": "display_data",
          "data": {
            "image/png": "[encoded data removed]",
            "text/plain": [
              "<Figure size 432x288 with 1 Axes>"
            ]
          },
          "metadata": {
            "tags": []
          }
        }
      ]
    },
    {
      "cell_type": "code",
      "metadata": {
        "id": "otM_mR_Qnskl",
        "colab_type": "code",
        "colab": {}
      },
      "source": [
        "# Reshape and normalize\n",
        "x_train = x_train.reshape(x_train.shape[0], image_size, image_size, 1).astype('float32')\n",
        "x_test = x_test.reshape(x_test.shape[0], image_size, image_size, 1).astype('float32')\n",
        "\n",
        "x_train /= 255.0\n",
        "x_test /= 255.0\n",
        "\n",
        "# Convert class vectors to class matrices\n",
        "y_train = keras.utils.to_categorical(y_train, num_classes)\n",
        "y_test = keras.utils.to_categorical(y_test, num_classes)\n"
      ],
      "execution_count": 0,
      "outputs": []
    },
    {
      "cell_type": "code",
      "metadata": {
        "id": "9L-D0tk0rYll",
        "colab_type": "code",
        "colab": {
          "base_uri": "https://localhost:8080/",
          "height": 34
        },
        "outputId": "00173fed-c720-45c0-a316-641d6ee5d505"
      },
      "source": [
        "print(x_train.shape)"
      ],
      "execution_count": 50,
      "outputs": [
        {
          "output_type": "stream",
          "text": [
            "(288000, 28, 28, 1)\n"
          ],
          "name": "stdout"
        }
      ]
    },
    {
      "cell_type": "code",
      "metadata": {
        "id": "O4gbi7tLpysU",
        "colab_type": "code",
        "colab": {
          "base_uri": "https://localhost:8080/",
          "height": 578
        },
        "outputId": "152dc47b-3f69-4095-8be5-21013a6696f8"
      },
      "source": [
        "model = Sequential()\n",
        "\n",
        "model.add(Conv2D(16, (3, 3),padding='same', input_shape=x_train.shape[1:],activation='relu'))\n",
        "model.add(MaxPooling2D(pool_size=(2, 2)))\n",
        "\n",
        "model.add(Conv2D(32, (3, 3),padding='same', activation='relu'))\n",
        "model.add(MaxPooling2D(pool_size=(2, 2)))\n",
        "\n",
        "model.add(Conv2D(64, (3, 3),padding='same', activation='relu'))\n",
        "model.add(MaxPooling2D(pool_size=(2, 2)))\n",
        "model.add(Dropout(0.2))\n",
        "model.add(Flatten())\n",
        "model.add(Dense(400, activation='relu'))\n",
        "model.add(Dense(128, activation='relu'))\n",
        "model.add(Dropout(0.5))\n",
        "model.add(Dense(num_classes, activation='softmax'))\n",
        "\n",
        "# Compile model\n",
        "model.compile(loss='categorical_crossentropy', optimizer='adam', metrics=['accuracy'])\n",
        "print(model.summary())"
      ],
      "execution_count": 51,
      "outputs": [
        {
          "output_type": "stream",
          "text": [
            "Model: \"sequential_10\"\n",
            "_________________________________________________________________\n",
            "Layer (type)                 Output Shape              Param #   \n",
            "=================================================================\n",
            "conv2d_19 (Conv2D)           (None, 28, 28, 16)        160       \n",
            "_________________________________________________________________\n",
            "max_pooling2d_18 (MaxPooling (None, 14, 14, 16)        0         \n",
            "_________________________________________________________________\n",
            "conv2d_20 (Conv2D)           (None, 14, 14, 32)        4640      \n",
            "_________________________________________________________________\n",
            "max_pooling2d_19 (MaxPooling (None, 7, 7, 32)          0         \n",
            "_________________________________________________________________\n",
            "conv2d_21 (Conv2D)           (None, 7, 7, 64)          18496     \n",
            "_________________________________________________________________\n",
            "max_pooling2d_20 (MaxPooling (None, 3, 3, 64)          0         \n",
            "_________________________________________________________________\n",
            "dropout_8 (Dropout)          (None, 3, 3, 64)          0         \n",
            "_________________________________________________________________\n",
            "flatten_7 (Flatten)          (None, 576)               0         \n",
            "_________________________________________________________________\n",
            "dense_15 (Dense)             (None, 400)               230800    \n",
            "_________________________________________________________________\n",
            "dense_16 (Dense)             (None, 128)               51328     \n",
            "_________________________________________________________________\n",
            "dropout_9 (Dropout)          (None, 128)               0         \n",
            "_________________________________________________________________\n",
            "dense_17 (Dense)             (None, 18)                2322      \n",
            "=================================================================\n",
            "Total params: 307,746\n",
            "Trainable params: 307,746\n",
            "Non-trainable params: 0\n",
            "_________________________________________________________________\n",
            "None\n"
          ],
          "name": "stdout"
        }
      ]
    },
    {
      "cell_type": "code",
      "metadata": {
        "id": "-hr5y9Z3p63u",
        "colab_type": "code",
        "colab": {
          "base_uri": "https://localhost:8080/",
          "height": 918
        },
        "outputId": "f9778017-c091-4a32-bae1-c8417490751a"
      },
      "source": [
        "model.fit(x = x_train, y = y_train, validation_split=0.2, batch_size = 50, verbose=1, epochs=30)"
      ],
      "execution_count": 52,
      "outputs": [
        {
          "output_type": "stream",
          "text": [
            "Train on 230400 samples, validate on 57600 samples\n",
            "Epoch 1/30\n",
            "230400/230400 [==============================] - 137s 595us/step - loss: 0.7598 - acc: 0.7791 - val_loss: 0.4850 - val_acc: 0.8554\n",
            "Epoch 2/30\n",
            "230400/230400 [==============================] - 139s 602us/step - loss: 0.4936 - acc: 0.8587 - val_loss: 0.3949 - val_acc: 0.8832\n",
            "Epoch 3/30\n",
            "230400/230400 [==============================] - 137s 594us/step - loss: 0.4339 - acc: 0.8745 - val_loss: 0.3770 - val_acc: 0.8878\n",
            "Epoch 4/30\n",
            "230400/230400 [==============================] - 134s 582us/step - loss: 0.3984 - acc: 0.8844 - val_loss: 0.3579 - val_acc: 0.8947\n",
            "Epoch 5/30\n",
            "230400/230400 [==============================] - 137s 594us/step - loss: 0.3767 - acc: 0.8906 - val_loss: 0.3642 - val_acc: 0.8928\n",
            "Epoch 6/30\n",
            "230400/230400 [==============================] - 137s 593us/step - loss: 0.3592 - acc: 0.8944 - val_loss: 0.3554 - val_acc: 0.8960\n",
            "Epoch 7/30\n",
            "230400/230400 [==============================] - 136s 591us/step - loss: 0.3454 - acc: 0.8984 - val_loss: 0.3500 - val_acc: 0.8976\n",
            "Epoch 8/30\n",
            "230400/230400 [==============================] - 134s 582us/step - loss: 0.3303 - acc: 0.9024 - val_loss: 0.3449 - val_acc: 0.9006\n",
            "Epoch 9/30\n",
            "230400/230400 [==============================] - 135s 585us/step - loss: 0.3225 - acc: 0.9045 - val_loss: 0.3521 - val_acc: 0.8966\n",
            "Epoch 10/30\n",
            "230400/230400 [==============================] - 135s 587us/step - loss: 0.3146 - acc: 0.9065 - val_loss: 0.3485 - val_acc: 0.9000\n",
            "Epoch 11/30\n",
            "230400/230400 [==============================] - 134s 583us/step - loss: 0.3060 - acc: 0.9085 - val_loss: 0.3503 - val_acc: 0.9000\n",
            "Epoch 12/30\n",
            "230400/230400 [==============================] - 135s 584us/step - loss: 0.3003 - acc: 0.9105 - val_loss: 0.3506 - val_acc: 0.9017\n",
            "Epoch 13/30\n",
            "230400/230400 [==============================] - 133s 578us/step - loss: 0.2929 - acc: 0.9120 - val_loss: 0.3464 - val_acc: 0.9018\n",
            "Epoch 14/30\n",
            "230400/230400 [==============================] - 136s 589us/step - loss: 0.2881 - acc: 0.9138 - val_loss: 0.3518 - val_acc: 0.9005\n",
            "Epoch 15/30\n",
            "230400/230400 [==============================] - 134s 584us/step - loss: 0.2830 - acc: 0.9155 - val_loss: 0.3552 - val_acc: 0.8995\n",
            "Epoch 16/30\n",
            "230400/230400 [==============================] - 135s 586us/step - loss: 0.2790 - acc: 0.9160 - val_loss: 0.3571 - val_acc: 0.9002\n",
            "Epoch 17/30\n",
            "230400/230400 [==============================] - 134s 580us/step - loss: 0.2751 - acc: 0.9177 - val_loss: 0.3622 - val_acc: 0.8990\n",
            "Epoch 18/30\n",
            "230400/230400 [==============================] - 134s 583us/step - loss: 0.2701 - acc: 0.9184 - val_loss: 0.3528 - val_acc: 0.9030\n",
            "Epoch 19/30\n",
            "230400/230400 [==============================] - 135s 588us/step - loss: 0.2654 - acc: 0.9202 - val_loss: 0.3593 - val_acc: 0.9023\n",
            "Epoch 20/30\n",
            "230400/230400 [==============================] - 134s 583us/step - loss: 0.2629 - acc: 0.9203 - val_loss: 0.3641 - val_acc: 0.9011\n",
            "Epoch 21/30\n",
            "230400/230400 [==============================] - 136s 589us/step - loss: 0.2578 - acc: 0.9222 - val_loss: 0.3609 - val_acc: 0.9000\n",
            "Epoch 22/30\n",
            "230400/230400 [==============================] - 136s 590us/step - loss: 0.2581 - acc: 0.9221 - val_loss: 0.3622 - val_acc: 0.9004\n",
            "Epoch 23/30\n",
            "230400/230400 [==============================] - 136s 589us/step - loss: 0.2544 - acc: 0.9223 - val_loss: 0.3660 - val_acc: 0.9009\n",
            "Epoch 24/30\n",
            "230400/230400 [==============================] - 133s 578us/step - loss: 0.2516 - acc: 0.9232 - val_loss: 0.3688 - val_acc: 0.8989\n",
            "Epoch 25/30\n",
            "230400/230400 [==============================] - 134s 582us/step - loss: 0.2475 - acc: 0.9252 - val_loss: 0.3638 - val_acc: 0.8993\n",
            "Epoch 26/30\n",
            " 58700/230400 [======>.......................] - ETA: 1:33 - loss: 0.2373 - acc: 0.9266Buffered data was truncated after reaching the output size limit."
          ],
          "name": "stdout"
        }
      ]
    },
    {
      "cell_type": "code",
      "metadata": {
        "id": "h7lIyCayqAiW",
        "colab_type": "code",
        "colab": {
          "base_uri": "https://localhost:8080/",
          "height": 34
        },
        "outputId": "c2d2e2c6-cb6e-44ff-b0ce-62faab9bddec"
      },
      "source": [
        "score = model.evaluate(x_test, y_test, verbose=0)\n",
        "print('Test accuarcy: {:0.2f}%'.format(score[1] * 100))"
      ],
      "execution_count": 57,
      "outputs": [
        {
          "output_type": "stream",
          "text": [
            "Test accuarcy: 89.98%\n"
          ],
          "name": "stdout"
        }
      ]
    },
    {
      "cell_type": "code",
      "metadata": {
        "id": "OaW3szIDAwEw",
        "colab_type": "code",
        "colab": {
          "base_uri": "https://localhost:8080/",
          "height": 34
        },
        "outputId": "9a3c45b6-a515-4b10-af8d-4be344708d4c"
      },
      "source": [
        "\n",
        "# 2. Save Keras Model or weights on google drive\n",
        "\n",
        "accuracy = \"89_98\"\n",
        "# create on Colab directory\n",
        "model.save_weights('thinkndraw_'+accuracy+'.h5')\n",
        "model_file = drive.CreateFile({'title' : 'thinkndraw_'+accuracy+'.h5'})\n",
        "model_file.SetContentFile('thinkndraw_'+accuracy+'.h5')\n",
        "model_file.Upload()\n",
        "\n",
        "# download to google drive\n",
        "drive.CreateFile({'id': model_file.get('id')})\n",
        "\n",
        "model.save('thinkndraw_'+accuracy+'.model')\n",
        "model_file = drive.CreateFile({'title' : 'thinkndraw_'+accuracy+'.model'})\n",
        "model_file.SetContentFile('thinkndraw_'+accuracy+'.model')\n",
        "model_file.Upload()\n",
        "\n",
        "# download to google drive\n",
        "drive.CreateFile({'id': model_file.get('id')})"
      ],
      "execution_count": 58,
      "outputs": [
        {
          "output_type": "execute_result",
          "data": {
            "text/plain": [
              "GoogleDriveFile({'id': '1a_xXZQE4vI92emjv3_1TtKu1dqJRzaoi'})"
            ]
          },
          "metadata": {
            "tags": []
          },
          "execution_count": 58
        }
      ]
    },
    {
      "cell_type": "code",
      "metadata": {
        "id": "8gk_w7s5Bs1y",
        "colab_type": "code",
        "colab": {}
      },
      "source": [
        ""
      ],
      "execution_count": 0,
      "outputs": []
    }
  ]
}