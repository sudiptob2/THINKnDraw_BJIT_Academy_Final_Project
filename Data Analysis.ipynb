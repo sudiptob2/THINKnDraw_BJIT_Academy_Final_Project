{
 "cells": [
  {
   "cell_type": "code",
   "execution_count": 1,
   "metadata": {},
   "outputs": [
    {
     "name": "stderr",
     "output_type": "stream",
     "text": [
      "Using TensorFlow backend.\n"
     ]
    }
   ],
   "source": [
    "import numpy as np\n",
    "import pandas as pd\n",
    "\n",
    "%matplotlib inline\n",
    "import matplotlib.pyplot as plt\n",
    "\n",
    "from sklearn.ensemble import RandomForestClassifier\n",
    "from sklearn.neighbors import KNeighborsClassifier\n",
    "from sklearn.svm import SVC, LinearSVC\n",
    "from sklearn.linear_model import SGDClassifier\n",
    "from sklearn.neural_network import MLPClassifier\n",
    "\n",
    "from sklearn.metrics import accuracy_score, confusion_matrix, roc_curve, roc_auc_score\n",
    "from sklearn.model_selection import train_test_split, GridSearchCV\n",
    "import keras\n",
    "from keras.models import Sequential\n",
    "from keras.layers import Dense, Dropout, Flatten\n",
    "from keras.layers.convolutional import Conv2D, MaxPooling2D\n",
    "from keras.utils import np_utils\n",
    "from keras import backend as K"
   ]
  },
  {
   "cell_type": "code",
   "execution_count": 5,
   "metadata": {},
   "outputs": [
    {
     "name": "stdout",
     "output_type": "stream",
     "text": [
      "(1000, 784)\n",
      "(1000, 784)\n"
     ]
    }
   ],
   "source": [
    "# load the data\n",
    "airplane = np.load('Data/airplane.npy')\n",
    "square = np.load('Data/square.npy')\n",
    "\n",
    "airplane = airplane[:1000]\n",
    "square = square[:1000]\n",
    "\n",
    "print(airplane.shape)\n",
    "print(square.shape)\n"
   ]
  },
  {
   "cell_type": "code",
   "execution_count": 6,
   "metadata": {},
   "outputs": [],
   "source": [
    "airplane = np.c_[airplane, np.zeros(len(airplane))]\n",
    "square = np.c_[square, np.ones(len(square))]"
   ]
  },
  {
   "cell_type": "code",
   "execution_count": 7,
   "metadata": {},
   "outputs": [],
   "source": [
    "def plot_samples(input_array, rows=4, cols=5, title=''):\n",
    "    '''\n",
    "    Function to plot 28x28 pixel drawings that are stored in a numpy array.\n",
    "    Specify how many rows and cols of pictures to display (default 4x5).  \n",
    "    If the array contains less images than subplots selected, surplus subplots remain empty.\n",
    "    '''\n",
    "    \n",
    "    fig, ax = plt.subplots(figsize=(cols,rows))\n",
    "    ax.axis('off')\n",
    "    plt.title(title)\n",
    "\n",
    "    for i in list(range(0, min(len(input_array),(rows*cols)) )):      \n",
    "        a = fig.add_subplot(rows,cols,i+1)\n",
    "        imgplot = plt.imshow(input_array[i,:784].reshape((28,28)), cmap='gray_r', interpolation='nearest')\n",
    "        plt.xticks([])\n",
    "        plt.yticks([])"
   ]
  },
  {
   "cell_type": "code",
   "execution_count": 8,
   "metadata": {},
   "outputs": [
    {
     "data": {
      "image/png": "[encoded data removed]",
      "text/plain": [
       "<Figure size 360x288 with 21 Axes>"
      ]
     },
     "metadata": {
      "needs_background": "light"
     },
     "output_type": "display_data"
    }
   ],
   "source": [
    "plot_samples(airplane, title='Sample cat drawings\\n')"
   ]
  },
  {
   "cell_type": "code",
   "execution_count": 43,
   "metadata": {},
   "outputs": [],
   "source": [
    "# merge the arrays, and split the features (X) and labels (y). Convert to float32 to save some memory.\n",
    "X = np.concatenate((airplane[:10000,:-1], square[:10000,:-1]), axis=0).astype('float32') # all columns but the last\n",
    "y = np.concatenate((airplane[:10000,-1], square[:10000,-1]), axis=0).astype('float32') # the last column\n",
    "\n",
    "# train/test split (divide by 255 to obtain normalized values between 0 and 1)\n",
    "# Use a 50:50 split, training the models on 10'000 samples and thus have plenty of samples to spare for testing.\n",
    "X_train, X_test, y_train, y_test = train_test_split(X/255.,y,test_size=0.5,random_state=0)"
   ]
  },
  {
   "cell_type": "code",
   "execution_count": 44,
   "metadata": {},
   "outputs": [
    {
     "name": "stdout",
     "output_type": "stream",
     "text": [
      "(1000, 1, 28, 28) 2\n"
     ]
    }
   ],
   "source": [
    "# one hot encode outputs\n",
    "y_train_cnn = np_utils.to_categorical(y_train)\n",
    "y_test_cnn = np_utils.to_categorical(y_test)\n",
    "num_classes = y_test_cnn.shape[1]\n",
    "\n",
    "# reshape to be [samples][pixels][width][height]\n",
    "X_train_cnn = X_train.reshape(X_train.shape[0], 1, 28, 28).astype('float32')\n",
    "X_test_cnn = X_test.reshape(X_test.shape[0], 1, 28, 28).astype('float32')\n",
    "s = X_train_cnn.shape\n",
    "print (s, num_classes)"
   ]
  },
  {
   "cell_type": "code",
   "execution_count": 48,
   "metadata": {},
   "outputs": [],
   "source": [
    "# define the CNN model\n",
    "def cnn_model():\n",
    "    # create model\n",
    "    model = Sequential()\n",
    "    \n",
    "    model.add(Conv2D(30, (5, 5), input_shape=(1, 28, 28), data_format='channels_first',activation='relu'))\n",
    "    model.add(MaxPooling2D(pool_size=(2, 2)))\n",
    "    \n",
    "    model.add(Conv2D(15, (3, 3), activation='relu'))\n",
    "    model.add(MaxPooling2D(pool_size=(2, 2)))\n",
    "    \n",
    "    model.add(Dropout(0.2))\n",
    "    model.add(Flatten())\n",
    "    \n",
    "    model.add(Dense(128, activation='relu'))\n",
    "    model.add(Dense(50, activation='relu'))\n",
    "    model.add(Dense(num_classes, activation='softmax'))\n",
    "    \n",
    "    # Compile model\n",
    "    model.compile(loss='categorical_crossentropy', optimizer='adam', metrics=['accuracy'])\n",
    "    return model"
   ]
  },
  {
   "cell_type": "code",
   "execution_count": 49,
   "metadata": {},
   "outputs": [
    {
     "data": {
      "text/plain": [
       "(1000, 1, 28, 28)"
      ]
     },
     "execution_count": 49,
     "metadata": {},
     "output_type": "execute_result"
    }
   ],
   "source": [
    "X_train_cnn.shape"
   ]
  },
  {
   "cell_type": "code",
   "execution_count": 50,
   "metadata": {},
   "outputs": [
    {
     "name": "stderr",
     "output_type": "stream",
     "text": [
      "W0916 17:00:49.695672 139780301375296 deprecation_wrapper.py:119] From /home/academy-1/anaconda3/envs/myenv/lib/python3.6/site-packages/keras/backend/tensorflow_backend.py:190: The name tf.get_default_session is deprecated. Please use tf.compat.v1.get_default_session instead.\n",
      "\n",
      "W0916 17:00:49.697053 139780301375296 deprecation_wrapper.py:119] From /home/academy-1/anaconda3/envs/myenv/lib/python3.6/site-packages/keras/backend/tensorflow_backend.py:197: The name tf.ConfigProto is deprecated. Please use tf.compat.v1.ConfigProto instead.\n",
      "\n",
      "W0916 17:00:51.169546 139780301375296 deprecation_wrapper.py:119] From /home/academy-1/anaconda3/envs/myenv/lib/python3.6/site-packages/keras/backend/tensorflow_backend.py:4267: The name tf.nn.max_pool is deprecated. Please use tf.nn.max_pool2d instead.\n",
      "\n",
      "W0916 17:00:51.212276 139780301375296 deprecation.py:506] From /home/academy-1/anaconda3/envs/myenv/lib/python3.6/site-packages/keras/backend/tensorflow_backend.py:3733: calling dropout (from tensorflow.python.ops.nn_ops) with keep_prob is deprecated and will be removed in a future version.\n",
      "Instructions for updating:\n",
      "Please use `rate` instead of `keep_prob`. Rate should be set to `rate = 1 - keep_prob`.\n",
      "W0916 17:00:51.285148 139780301375296 deprecation_wrapper.py:119] From /home/academy-1/anaconda3/envs/myenv/lib/python3.6/site-packages/keras/optimizers.py:793: The name tf.train.Optimizer is deprecated. Please use tf.compat.v1.train.Optimizer instead.\n",
      "\n",
      "W0916 17:00:51.439174 139780301375296 deprecation.py:323] From /home/academy-1/anaconda3/envs/myenv/lib/python3.6/site-packages/tensorflow/python/ops/math_grad.py:1250: add_dispatch_support.<locals>.wrapper (from tensorflow.python.ops.array_ops) is deprecated and will be removed in a future version.\n",
      "Instructions for updating:\n",
      "Use tf.where in 2.0, which has the same broadcast rule as np.where\n"
     ]
    },
    {
     "name": "stdout",
     "output_type": "stream",
     "text": [
      "Train on 1000 samples, validate on 1000 samples\n",
      "Epoch 1/30\n",
      "1000/1000 [==============================] - 5s 5ms/step - loss: 0.2707 - acc: 0.9280 - val_loss: 0.0993 - val_acc: 0.9700\n",
      "Epoch 2/30\n",
      "1000/1000 [==============================] - 1s 841us/step - loss: 0.1277 - acc: 0.9630 - val_loss: 0.0733 - val_acc: 0.9790\n",
      "Epoch 3/30\n",
      "1000/1000 [==============================] - 1s 853us/step - loss: 0.0969 - acc: 0.9680 - val_loss: 0.0777 - val_acc: 0.9720\n",
      "Epoch 4/30\n",
      "1000/1000 [==============================] - 1s 860us/step - loss: 0.0888 - acc: 0.9670 - val_loss: 0.0673 - val_acc: 0.9790\n",
      "Epoch 5/30\n",
      "1000/1000 [==============================] - 1s 841us/step - loss: 0.0679 - acc: 0.9780 - val_loss: 0.0638 - val_acc: 0.9790\n",
      "Epoch 6/30\n",
      "1000/1000 [==============================] - 1s 890us/step - loss: 0.0672 - acc: 0.9750 - val_loss: 0.0675 - val_acc: 0.9810\n",
      "Epoch 7/30\n",
      "1000/1000 [==============================] - 1s 873us/step - loss: 0.0612 - acc: 0.9750 - val_loss: 0.0625 - val_acc: 0.9780\n",
      "Epoch 8/30\n",
      "1000/1000 [==============================] - 1s 849us/step - loss: 0.0529 - acc: 0.9820 - val_loss: 0.0605 - val_acc: 0.9780\n",
      "Epoch 9/30\n",
      "1000/1000 [==============================] - 1s 868us/step - loss: 0.0576 - acc: 0.9770 - val_loss: 0.0591 - val_acc: 0.9770\n",
      "Epoch 10/30\n",
      "1000/1000 [==============================] - 1s 1ms/step - loss: 0.0369 - acc: 0.9900 - val_loss: 0.0596 - val_acc: 0.9780\n",
      "Epoch 11/30\n",
      "1000/1000 [==============================] - 1s 1ms/step - loss: 0.0271 - acc: 0.9900 - val_loss: 0.0598 - val_acc: 0.9790\n",
      "Epoch 12/30\n",
      "1000/1000 [==============================] - 1s 864us/step - loss: 0.0286 - acc: 0.9880 - val_loss: 0.0599 - val_acc: 0.9830\n",
      "Epoch 13/30\n",
      "1000/1000 [==============================] - 1s 863us/step - loss: 0.0193 - acc: 0.9950 - val_loss: 0.0637 - val_acc: 0.9790\n",
      "Epoch 14/30\n",
      "1000/1000 [==============================] - 1s 1ms/step - loss: 0.0131 - acc: 0.9970 - val_loss: 0.0638 - val_acc: 0.9800\n",
      "Epoch 15/30\n",
      "1000/1000 [==============================] - 1s 907us/step - loss: 0.0111 - acc: 0.9980 - val_loss: 0.0684 - val_acc: 0.9810\n",
      "Epoch 16/30\n",
      "1000/1000 [==============================] - 1s 896us/step - loss: 0.0204 - acc: 0.9930 - val_loss: 0.0787 - val_acc: 0.9800\n",
      "Epoch 17/30\n",
      "1000/1000 [==============================] - 1s 893us/step - loss: 0.0117 - acc: 0.9960 - val_loss: 0.0680 - val_acc: 0.9800\n",
      "Epoch 18/30\n",
      "1000/1000 [==============================] - 1s 1ms/step - loss: 0.0103 - acc: 0.9960 - val_loss: 0.0808 - val_acc: 0.9790\n",
      "Epoch 19/30\n",
      "1000/1000 [==============================] - 1s 867us/step - loss: 0.0072 - acc: 0.9990 - val_loss: 0.0760 - val_acc: 0.9750\n",
      "Epoch 20/30\n",
      "1000/1000 [==============================] - 1s 872us/step - loss: 0.0039 - acc: 0.9990 - val_loss: 0.0794 - val_acc: 0.9770\n",
      "Epoch 21/30\n",
      "1000/1000 [==============================] - 1s 874us/step - loss: 0.0093 - acc: 0.9960 - val_loss: 0.0833 - val_acc: 0.9750\n",
      "Epoch 22/30\n",
      "1000/1000 [==============================] - 1s 856us/step - loss: 0.0116 - acc: 0.9970 - val_loss: 0.0828 - val_acc: 0.9770\n",
      "Epoch 23/30\n",
      "1000/1000 [==============================] - 1s 871us/step - loss: 0.0060 - acc: 0.9980 - val_loss: 0.0786 - val_acc: 0.9770\n",
      "Epoch 24/30\n",
      "1000/1000 [==============================] - 1s 860us/step - loss: 0.0042 - acc: 0.9990 - val_loss: 0.0799 - val_acc: 0.9780\n",
      "Epoch 25/30\n",
      "1000/1000 [==============================] - 1s 868us/step - loss: 0.0029 - acc: 1.0000 - val_loss: 0.0830 - val_acc: 0.9810\n",
      "Epoch 26/30\n",
      "1000/1000 [==============================] - 1s 863us/step - loss: 0.0019 - acc: 1.0000 - val_loss: 0.0879 - val_acc: 0.9810\n",
      "Epoch 27/30\n",
      "1000/1000 [==============================] - 1s 900us/step - loss: 0.0016 - acc: 1.0000 - val_loss: 0.0889 - val_acc: 0.9800\n",
      "Epoch 28/30\n",
      "1000/1000 [==============================] - 1s 898us/step - loss: 0.0025 - acc: 0.9990 - val_loss: 0.0999 - val_acc: 0.9730\n",
      "Epoch 29/30\n",
      "1000/1000 [==============================] - 1s 892us/step - loss: 0.0049 - acc: 0.9980 - val_loss: 0.1054 - val_acc: 0.9810\n",
      "Epoch 30/30\n",
      "1000/1000 [==============================] - 1s 887us/step - loss: 0.0057 - acc: 0.9990 - val_loss: 0.0929 - val_acc: 0.9760\n",
      "Final CNN accuracy:  97.6 %\n",
      "Model is saved\n",
      "CPU times: user 1min 7s, sys: 1.97 s, total: 1min 9s\n",
      "Wall time: 33.7 s\n"
     ]
    }
   ],
   "source": [
    "%%time\n",
    "\n",
    "# build the model\n",
    "model = cnn_model()\n",
    "# Fit the model\n",
    "history = model.fit(X_train_cnn, y_train_cnn, validation_data=(X_test_cnn, y_test_cnn), epochs=30, batch_size=50)\n",
    "# Final evaluation of the model\n",
    "scores = model.evaluate(X_test_cnn, y_test_cnn, verbose=0)\n",
    "print('Final CNN accuracy: ', scores[1]*100, \"%\")\n",
    "\n",
    "# Save weights\n",
    "model.save_weights('quickdraw_neuralnet.h5')\n",
    "model.save('quickdraw.model')\n",
    "print(\"Model is saved\")"
   ]
  },
  {
   "cell_type": "code",
   "execution_count": null,
   "metadata": {},
   "outputs": [],
   "source": []
  },
  {
   "cell_type": "code",
   "execution_count": null,
   "metadata": {},
   "outputs": [],
   "source": []
  },
  {
   "cell_type": "code",
   "execution_count": null,
   "metadata": {},
   "outputs": [],
   "source": []
  }
 ],
 "metadata": {
  "kernelspec": {
   "display_name": "myenv",
   "language": "python",
   "name": "myenv"
  },
  "language_info": {
   "codemirror_mode": {
    "name": "ipython",
    "version": 3
   },
   "file_extension": ".py",
   "mimetype": "text/x-python",
   "name": "python",
   "nbconvert_exporter": "python",
   "pygments_lexer": "ipython3",
   "version": "3.6.8"
  }
 },
 "nbformat": 4,
 "nbformat_minor": 2
}
